{
  "nbformat": 4,
  "nbformat_minor": 0,
  "metadata": {
    "colab": {
      "name": "Pandas_15.ipynb",
      "provenance": [],
      "authorship_tag": "ABX9TyO/s201FbUnzBJtY18poHbe",
      "include_colab_link": true
    },
    "kernelspec": {
      "name": "python3",
      "display_name": "Python 3"
    },
    "language_info": {
      "name": "python"
    }
  },
  "cells": [
    {
      "cell_type": "markdown",
      "metadata": {
        "id": "view-in-github",
        "colab_type": "text"
      },
      "source": [
        "<a href=\"https://colab.research.google.com/github/crzysab/Python-Pandas/blob/main/Pandas_15.ipynb\" target=\"_parent\"><img src=\"https://colab.research.google.com/assets/colab-badge.svg\" alt=\"Open In Colab\"/></a>"
      ]
    },
    {
      "cell_type": "markdown",
      "metadata": {
        "id": "ulWKcNSmMadP"
      },
      "source": [
        "**Memecah nilai string suatu kolom ke dalam beberapa kolom baru pada Pandas Data Frame**\n",
        "\n",
        "___"
      ]
    },
    {
      "cell_type": "markdown",
      "metadata": {
        "id": "FbvoyCypMlaO"
      },
      "source": [
        "Import Module"
      ]
    },
    {
      "cell_type": "code",
      "metadata": {
        "id": "WV063bujMPAw"
      },
      "source": [
        "import pandas as pd"
      ],
      "execution_count": null,
      "outputs": []
    },
    {
      "cell_type": "markdown",
      "metadata": {
        "id": "C_3Po3OHMsi9"
      },
      "source": [
        "Persiapan Data Frame"
      ]
    },
    {
      "cell_type": "code",
      "metadata": {
        "colab": {
          "base_uri": "https://localhost:8080/",
          "height": 142
        },
        "id": "p8B_No4PMuN1",
        "outputId": "62be150c-8483-4cd6-e942-4e550d3dc9c3"
      },
      "source": [
        "data = {'nama':['Vidi Aldiano', 'Judika Sihotang', 'Andmesh Kamaleng'],\n",
        "        'tempat_kelahiran':['Jakarta, DKI Jakarta', 'Sidikalang, Sumatera Utara', 'Alor, NTT']}\n",
        "\n",
        "df = pd.DataFrame(data)\n",
        "df"
      ],
      "execution_count": null,
      "outputs": [
        {
          "output_type": "execute_result",
          "data": {
            "text/html": [
              "<div>\n",
              "<style scoped>\n",
              "    .dataframe tbody tr th:only-of-type {\n",
              "        vertical-align: middle;\n",
              "    }\n",
              "\n",
              "    .dataframe tbody tr th {\n",
              "        vertical-align: top;\n",
              "    }\n",
              "\n",
              "    .dataframe thead th {\n",
              "        text-align: right;\n",
              "    }\n",
              "</style>\n",
              "<table border=\"1\" class=\"dataframe\">\n",
              "  <thead>\n",
              "    <tr style=\"text-align: right;\">\n",
              "      <th></th>\n",
              "      <th>nama</th>\n",
              "      <th>tempat_kelahiran</th>\n",
              "    </tr>\n",
              "  </thead>\n",
              "  <tbody>\n",
              "    <tr>\n",
              "      <th>0</th>\n",
              "      <td>Vidi Aldiano</td>\n",
              "      <td>Jakarta, DKI Jakarta</td>\n",
              "    </tr>\n",
              "    <tr>\n",
              "      <th>1</th>\n",
              "      <td>Judika Sihotang</td>\n",
              "      <td>Sidikalang, Sumatera Utara</td>\n",
              "    </tr>\n",
              "    <tr>\n",
              "      <th>2</th>\n",
              "      <td>Andmesh Kamaleng</td>\n",
              "      <td>Alor, NTT</td>\n",
              "    </tr>\n",
              "  </tbody>\n",
              "</table>\n",
              "</div>"
            ],
            "text/plain": [
              "               nama            tempat_kelahiran\n",
              "0      Vidi Aldiano        Jakarta, DKI Jakarta\n",
              "1   Judika Sihotang  Sidikalang, Sumatera Utara\n",
              "2  Andmesh Kamaleng                   Alor, NTT"
            ]
          },
          "metadata": {},
          "execution_count": 6
        }
      ]
    },
    {
      "cell_type": "markdown",
      "metadata": {
        "id": "MshHNlDfOVHH"
      },
      "source": [
        "Memecah Nama Depan dan Nama Belakang"
      ]
    },
    {
      "cell_type": "code",
      "metadata": {
        "colab": {
          "base_uri": "https://localhost:8080/",
          "height": 142
        },
        "id": "OnfUGitOOcXY",
        "outputId": "8de92683-d1d8-4e71-b8f9-c432812b178b"
      },
      "source": [
        "df[['nama_depan', 'nama_belakang']] = df['nama'].str.split(' ', expand=True)\n",
        "df"
      ],
      "execution_count": null,
      "outputs": [
        {
          "output_type": "execute_result",
          "data": {
            "text/html": [
              "<div>\n",
              "<style scoped>\n",
              "    .dataframe tbody tr th:only-of-type {\n",
              "        vertical-align: middle;\n",
              "    }\n",
              "\n",
              "    .dataframe tbody tr th {\n",
              "        vertical-align: top;\n",
              "    }\n",
              "\n",
              "    .dataframe thead th {\n",
              "        text-align: right;\n",
              "    }\n",
              "</style>\n",
              "<table border=\"1\" class=\"dataframe\">\n",
              "  <thead>\n",
              "    <tr style=\"text-align: right;\">\n",
              "      <th></th>\n",
              "      <th>nama</th>\n",
              "      <th>tempat_kelahiran</th>\n",
              "      <th>nama_depan</th>\n",
              "      <th>nama_belakang</th>\n",
              "    </tr>\n",
              "  </thead>\n",
              "  <tbody>\n",
              "    <tr>\n",
              "      <th>0</th>\n",
              "      <td>Vidi Aldiano</td>\n",
              "      <td>Jakarta, DKI Jakarta</td>\n",
              "      <td>Vidi</td>\n",
              "      <td>Aldiano</td>\n",
              "    </tr>\n",
              "    <tr>\n",
              "      <th>1</th>\n",
              "      <td>Judika Sihotang</td>\n",
              "      <td>Sidikalang, Sumatera Utara</td>\n",
              "      <td>Judika</td>\n",
              "      <td>Sihotang</td>\n",
              "    </tr>\n",
              "    <tr>\n",
              "      <th>2</th>\n",
              "      <td>Andmesh Kamaleng</td>\n",
              "      <td>Alor, NTT</td>\n",
              "      <td>Andmesh</td>\n",
              "      <td>Kamaleng</td>\n",
              "    </tr>\n",
              "  </tbody>\n",
              "</table>\n",
              "</div>"
            ],
            "text/plain": [
              "               nama            tempat_kelahiran nama_depan nama_belakang\n",
              "0      Vidi Aldiano        Jakarta, DKI Jakarta       Vidi       Aldiano\n",
              "1   Judika Sihotang  Sidikalang, Sumatera Utara     Judika      Sihotang\n",
              "2  Andmesh Kamaleng                   Alor, NTT    Andmesh      Kamaleng"
            ]
          },
          "metadata": {},
          "execution_count": 7
        }
      ]
    },
    {
      "cell_type": "markdown",
      "metadata": {
        "id": "aidBKkizO2ee"
      },
      "source": [
        "Memecah Nama Kota dan Propinsi dari Kolom Tempat Kelahiran"
      ]
    },
    {
      "cell_type": "code",
      "metadata": {
        "colab": {
          "base_uri": "https://localhost:8080/",
          "height": 142
        },
        "id": "CoVIlW8tO6rw",
        "outputId": "465ddcfe-9bec-4103-83a2-30a1e9a78bd0"
      },
      "source": [
        "df[['kota', 'propinsi']] = df['tempat_kelahiran'].str.split(',', expand=True)\n",
        "df"
      ],
      "execution_count": null,
      "outputs": [
        {
          "output_type": "execute_result",
          "data": {
            "text/html": [
              "<div>\n",
              "<style scoped>\n",
              "    .dataframe tbody tr th:only-of-type {\n",
              "        vertical-align: middle;\n",
              "    }\n",
              "\n",
              "    .dataframe tbody tr th {\n",
              "        vertical-align: top;\n",
              "    }\n",
              "\n",
              "    .dataframe thead th {\n",
              "        text-align: right;\n",
              "    }\n",
              "</style>\n",
              "<table border=\"1\" class=\"dataframe\">\n",
              "  <thead>\n",
              "    <tr style=\"text-align: right;\">\n",
              "      <th></th>\n",
              "      <th>nama</th>\n",
              "      <th>tempat_kelahiran</th>\n",
              "      <th>nama_depan</th>\n",
              "      <th>nama_belakang</th>\n",
              "      <th>kota</th>\n",
              "      <th>propinsi</th>\n",
              "    </tr>\n",
              "  </thead>\n",
              "  <tbody>\n",
              "    <tr>\n",
              "      <th>0</th>\n",
              "      <td>Vidi Aldiano</td>\n",
              "      <td>Jakarta, DKI Jakarta</td>\n",
              "      <td>Vidi</td>\n",
              "      <td>Aldiano</td>\n",
              "      <td>Jakarta</td>\n",
              "      <td>DKI Jakarta</td>\n",
              "    </tr>\n",
              "    <tr>\n",
              "      <th>1</th>\n",
              "      <td>Judika Sihotang</td>\n",
              "      <td>Sidikalang, Sumatera Utara</td>\n",
              "      <td>Judika</td>\n",
              "      <td>Sihotang</td>\n",
              "      <td>Sidikalang</td>\n",
              "      <td>Sumatera Utara</td>\n",
              "    </tr>\n",
              "    <tr>\n",
              "      <th>2</th>\n",
              "      <td>Andmesh Kamaleng</td>\n",
              "      <td>Alor, NTT</td>\n",
              "      <td>Andmesh</td>\n",
              "      <td>Kamaleng</td>\n",
              "      <td>Alor</td>\n",
              "      <td>NTT</td>\n",
              "    </tr>\n",
              "  </tbody>\n",
              "</table>\n",
              "</div>"
            ],
            "text/plain": [
              "               nama            tempat_kelahiran  ...        kota         propinsi\n",
              "0      Vidi Aldiano        Jakarta, DKI Jakarta  ...     Jakarta      DKI Jakarta\n",
              "1   Judika Sihotang  Sidikalang, Sumatera Utara  ...  Sidikalang   Sumatera Utara\n",
              "2  Andmesh Kamaleng                   Alor, NTT  ...        Alor              NTT\n",
              "\n",
              "[3 rows x 6 columns]"
            ]
          },
          "metadata": {},
          "execution_count": 8
        }
      ]
    }
  ]
}