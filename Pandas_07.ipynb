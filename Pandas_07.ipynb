{
  "nbformat": 4,
  "nbformat_minor": 0,
  "metadata": {
    "colab": {
      "name": "Pandas_07.ipynb",
      "provenance": [],
      "collapsed_sections": [],
      "authorship_tag": "ABX9TyPXHbJgMgNY3zh5nRmPSw2H",
      "include_colab_link": true
    },
    "kernelspec": {
      "name": "python3",
      "display_name": "Python 3"
    },
    "language_info": {
      "name": "python"
    }
  },
  "cells": [
    {
      "cell_type": "markdown",
      "metadata": {
        "id": "view-in-github",
        "colab_type": "text"
      },
      "source": [
        "<a href=\"https://colab.research.google.com/github/sabsabb/Python-Pandas/blob/main/Pandas_07.ipynb\" target=\"_parent\"><img src=\"https://colab.research.google.com/assets/colab-badge.svg\" alt=\"Open In Colab\"/></a>"
      ]
    },
    {
      "cell_type": "markdown",
      "metadata": {
        "id": "M9NR2_8s8UmS"
      },
      "source": [
        "**Menghapus missing values pada Data Frame**"
      ]
    },
    {
      "cell_type": "markdown",
      "metadata": {
        "id": "ZL4j1-UK8nhO"
      },
      "source": [
        "Import Modules"
      ]
    },
    {
      "cell_type": "code",
      "metadata": {
        "id": "LA5qmKyr8OUf"
      },
      "source": [
        "import pandas as pd"
      ],
      "execution_count": 1,
      "outputs": []
    },
    {
      "cell_type": "markdown",
      "metadata": {
        "id": "7b1zgqfq8u12"
      },
      "source": [
        "Persiapan Data Frame"
      ]
    },
    {
      "cell_type": "code",
      "metadata": {
        "colab": {
          "base_uri": "https://localhost:8080/",
          "height": 204
        },
        "id": "w4p8PnL08wXo",
        "outputId": "522cd14d-aabb-4181-c912-6ffb80c075ef"
      },
      "source": [
        "df = pd.util.testing.makeMissingDataframe().reset_index()\n",
        "df.head()"
      ],
      "execution_count": 7,
      "outputs": [
        {
          "output_type": "execute_result",
          "data": {
            "text/html": [
              "<div>\n",
              "<style scoped>\n",
              "    .dataframe tbody tr th:only-of-type {\n",
              "        vertical-align: middle;\n",
              "    }\n",
              "\n",
              "    .dataframe tbody tr th {\n",
              "        vertical-align: top;\n",
              "    }\n",
              "\n",
              "    .dataframe thead th {\n",
              "        text-align: right;\n",
              "    }\n",
              "</style>\n",
              "<table border=\"1\" class=\"dataframe\">\n",
              "  <thead>\n",
              "    <tr style=\"text-align: right;\">\n",
              "      <th></th>\n",
              "      <th>index</th>\n",
              "      <th>A</th>\n",
              "      <th>B</th>\n",
              "      <th>C</th>\n",
              "      <th>D</th>\n",
              "    </tr>\n",
              "  </thead>\n",
              "  <tbody>\n",
              "    <tr>\n",
              "      <th>0</th>\n",
              "      <td>jH6rXRC6FF</td>\n",
              "      <td>0.010824</td>\n",
              "      <td>0.044598</td>\n",
              "      <td>-1.853515</td>\n",
              "      <td>-0.596254</td>\n",
              "    </tr>\n",
              "    <tr>\n",
              "      <th>1</th>\n",
              "      <td>IrvMzpsaGj</td>\n",
              "      <td>1.196200</td>\n",
              "      <td>0.068381</td>\n",
              "      <td>-2.911274</td>\n",
              "      <td>-1.611408</td>\n",
              "    </tr>\n",
              "    <tr>\n",
              "      <th>2</th>\n",
              "      <td>yO8tNsfvN8</td>\n",
              "      <td>-0.597172</td>\n",
              "      <td>1.355940</td>\n",
              "      <td>0.966367</td>\n",
              "      <td>-0.216020</td>\n",
              "    </tr>\n",
              "    <tr>\n",
              "      <th>3</th>\n",
              "      <td>C80076x5WD</td>\n",
              "      <td>-1.273934</td>\n",
              "      <td>-0.708975</td>\n",
              "      <td>NaN</td>\n",
              "      <td>0.730350</td>\n",
              "    </tr>\n",
              "    <tr>\n",
              "      <th>4</th>\n",
              "      <td>Dct7wvQYgv</td>\n",
              "      <td>NaN</td>\n",
              "      <td>-1.087498</td>\n",
              "      <td>-1.108390</td>\n",
              "      <td>1.173725</td>\n",
              "    </tr>\n",
              "  </tbody>\n",
              "</table>\n",
              "</div>"
            ],
            "text/plain": [
              "        index         A         B         C         D\n",
              "0  jH6rXRC6FF  0.010824  0.044598 -1.853515 -0.596254\n",
              "1  IrvMzpsaGj  1.196200  0.068381 -2.911274 -1.611408\n",
              "2  yO8tNsfvN8 -0.597172  1.355940  0.966367 -0.216020\n",
              "3  C80076x5WD -1.273934 -0.708975       NaN  0.730350\n",
              "4  Dct7wvQYgv       NaN -1.087498 -1.108390  1.173725"
            ]
          },
          "metadata": {},
          "execution_count": 7
        }
      ]
    },
    {
      "cell_type": "code",
      "metadata": {
        "colab": {
          "base_uri": "https://localhost:8080/",
          "height": 204
        },
        "id": "ofIPsjuW9F2c",
        "outputId": "af271aac-ee9f-42fb-8eaa-73c01b0288d7"
      },
      "source": [
        "df = df.rename(columns={'index':'Z'})\n",
        "df.head()"
      ],
      "execution_count": 8,
      "outputs": [
        {
          "output_type": "execute_result",
          "data": {
            "text/html": [
              "<div>\n",
              "<style scoped>\n",
              "    .dataframe tbody tr th:only-of-type {\n",
              "        vertical-align: middle;\n",
              "    }\n",
              "\n",
              "    .dataframe tbody tr th {\n",
              "        vertical-align: top;\n",
              "    }\n",
              "\n",
              "    .dataframe thead th {\n",
              "        text-align: right;\n",
              "    }\n",
              "</style>\n",
              "<table border=\"1\" class=\"dataframe\">\n",
              "  <thead>\n",
              "    <tr style=\"text-align: right;\">\n",
              "      <th></th>\n",
              "      <th>Z</th>\n",
              "      <th>A</th>\n",
              "      <th>B</th>\n",
              "      <th>C</th>\n",
              "      <th>D</th>\n",
              "    </tr>\n",
              "  </thead>\n",
              "  <tbody>\n",
              "    <tr>\n",
              "      <th>0</th>\n",
              "      <td>jH6rXRC6FF</td>\n",
              "      <td>0.010824</td>\n",
              "      <td>0.044598</td>\n",
              "      <td>-1.853515</td>\n",
              "      <td>-0.596254</td>\n",
              "    </tr>\n",
              "    <tr>\n",
              "      <th>1</th>\n",
              "      <td>IrvMzpsaGj</td>\n",
              "      <td>1.196200</td>\n",
              "      <td>0.068381</td>\n",
              "      <td>-2.911274</td>\n",
              "      <td>-1.611408</td>\n",
              "    </tr>\n",
              "    <tr>\n",
              "      <th>2</th>\n",
              "      <td>yO8tNsfvN8</td>\n",
              "      <td>-0.597172</td>\n",
              "      <td>1.355940</td>\n",
              "      <td>0.966367</td>\n",
              "      <td>-0.216020</td>\n",
              "    </tr>\n",
              "    <tr>\n",
              "      <th>3</th>\n",
              "      <td>C80076x5WD</td>\n",
              "      <td>-1.273934</td>\n",
              "      <td>-0.708975</td>\n",
              "      <td>NaN</td>\n",
              "      <td>0.730350</td>\n",
              "    </tr>\n",
              "    <tr>\n",
              "      <th>4</th>\n",
              "      <td>Dct7wvQYgv</td>\n",
              "      <td>NaN</td>\n",
              "      <td>-1.087498</td>\n",
              "      <td>-1.108390</td>\n",
              "      <td>1.173725</td>\n",
              "    </tr>\n",
              "  </tbody>\n",
              "</table>\n",
              "</div>"
            ],
            "text/plain": [
              "            Z         A         B         C         D\n",
              "0  jH6rXRC6FF  0.010824  0.044598 -1.853515 -0.596254\n",
              "1  IrvMzpsaGj  1.196200  0.068381 -2.911274 -1.611408\n",
              "2  yO8tNsfvN8 -0.597172  1.355940  0.966367 -0.216020\n",
              "3  C80076x5WD -1.273934 -0.708975       NaN  0.730350\n",
              "4  Dct7wvQYgv       NaN -1.087498 -1.108390  1.173725"
            ]
          },
          "metadata": {},
          "execution_count": 8
        }
      ]
    },
    {
      "cell_type": "code",
      "metadata": {
        "id": "sFIy8cp99ahE"
      },
      "source": [
        "df_backup = df.copy(deep=True)"
      ],
      "execution_count": 9,
      "outputs": []
    },
    {
      "cell_type": "markdown",
      "metadata": {
        "id": "5d7csBg39nra"
      },
      "source": [
        "Manghapus Missing Value Pada Kolom"
      ]
    },
    {
      "cell_type": "code",
      "metadata": {
        "colab": {
          "base_uri": "https://localhost:8080/",
          "height": 204
        },
        "id": "j69J8AXd9m9V",
        "outputId": "48345dce-f327-44f0-ffeb-acebb9cf2f14"
      },
      "source": [
        "df = df.dropna(axis='columns')\n",
        "df.head()"
      ],
      "execution_count": 10,
      "outputs": [
        {
          "output_type": "execute_result",
          "data": {
            "text/html": [
              "<div>\n",
              "<style scoped>\n",
              "    .dataframe tbody tr th:only-of-type {\n",
              "        vertical-align: middle;\n",
              "    }\n",
              "\n",
              "    .dataframe tbody tr th {\n",
              "        vertical-align: top;\n",
              "    }\n",
              "\n",
              "    .dataframe thead th {\n",
              "        text-align: right;\n",
              "    }\n",
              "</style>\n",
              "<table border=\"1\" class=\"dataframe\">\n",
              "  <thead>\n",
              "    <tr style=\"text-align: right;\">\n",
              "      <th></th>\n",
              "      <th>Z</th>\n",
              "    </tr>\n",
              "  </thead>\n",
              "  <tbody>\n",
              "    <tr>\n",
              "      <th>0</th>\n",
              "      <td>jH6rXRC6FF</td>\n",
              "    </tr>\n",
              "    <tr>\n",
              "      <th>1</th>\n",
              "      <td>IrvMzpsaGj</td>\n",
              "    </tr>\n",
              "    <tr>\n",
              "      <th>2</th>\n",
              "      <td>yO8tNsfvN8</td>\n",
              "    </tr>\n",
              "    <tr>\n",
              "      <th>3</th>\n",
              "      <td>C80076x5WD</td>\n",
              "    </tr>\n",
              "    <tr>\n",
              "      <th>4</th>\n",
              "      <td>Dct7wvQYgv</td>\n",
              "    </tr>\n",
              "  </tbody>\n",
              "</table>\n",
              "</div>"
            ],
            "text/plain": [
              "            Z\n",
              "0  jH6rXRC6FF\n",
              "1  IrvMzpsaGj\n",
              "2  yO8tNsfvN8\n",
              "3  C80076x5WD\n",
              "4  Dct7wvQYgv"
            ]
          },
          "metadata": {},
          "execution_count": 10
        }
      ]
    },
    {
      "cell_type": "markdown",
      "metadata": {
        "id": "ySGzUp1e-F8J"
      },
      "source": [
        "Manghapus Missing Value Pada Baris"
      ]
    },
    {
      "cell_type": "code",
      "metadata": {
        "colab": {
          "base_uri": "https://localhost:8080/",
          "height": 204
        },
        "id": "jp8t63Bk-JQR",
        "outputId": "e2e5eb38-e6f3-4025-ac4b-eecaacc35c90"
      },
      "source": [
        "df = df_backup.copy(deep=True)\n",
        "df = df.dropna(axis='rows')\n",
        "df.head()"
      ],
      "execution_count": 11,
      "outputs": [
        {
          "output_type": "execute_result",
          "data": {
            "text/html": [
              "<div>\n",
              "<style scoped>\n",
              "    .dataframe tbody tr th:only-of-type {\n",
              "        vertical-align: middle;\n",
              "    }\n",
              "\n",
              "    .dataframe tbody tr th {\n",
              "        vertical-align: top;\n",
              "    }\n",
              "\n",
              "    .dataframe thead th {\n",
              "        text-align: right;\n",
              "    }\n",
              "</style>\n",
              "<table border=\"1\" class=\"dataframe\">\n",
              "  <thead>\n",
              "    <tr style=\"text-align: right;\">\n",
              "      <th></th>\n",
              "      <th>Z</th>\n",
              "      <th>A</th>\n",
              "      <th>B</th>\n",
              "      <th>C</th>\n",
              "      <th>D</th>\n",
              "    </tr>\n",
              "  </thead>\n",
              "  <tbody>\n",
              "    <tr>\n",
              "      <th>0</th>\n",
              "      <td>jH6rXRC6FF</td>\n",
              "      <td>0.010824</td>\n",
              "      <td>0.044598</td>\n",
              "      <td>-1.853515</td>\n",
              "      <td>-0.596254</td>\n",
              "    </tr>\n",
              "    <tr>\n",
              "      <th>1</th>\n",
              "      <td>IrvMzpsaGj</td>\n",
              "      <td>1.196200</td>\n",
              "      <td>0.068381</td>\n",
              "      <td>-2.911274</td>\n",
              "      <td>-1.611408</td>\n",
              "    </tr>\n",
              "    <tr>\n",
              "      <th>2</th>\n",
              "      <td>yO8tNsfvN8</td>\n",
              "      <td>-0.597172</td>\n",
              "      <td>1.355940</td>\n",
              "      <td>0.966367</td>\n",
              "      <td>-0.216020</td>\n",
              "    </tr>\n",
              "    <tr>\n",
              "      <th>5</th>\n",
              "      <td>Zjx4FR8YE8</td>\n",
              "      <td>0.344950</td>\n",
              "      <td>1.680791</td>\n",
              "      <td>0.537409</td>\n",
              "      <td>-0.845184</td>\n",
              "    </tr>\n",
              "    <tr>\n",
              "      <th>6</th>\n",
              "      <td>5HjmJtD3jT</td>\n",
              "      <td>0.465468</td>\n",
              "      <td>-1.745164</td>\n",
              "      <td>0.543424</td>\n",
              "      <td>-1.955046</td>\n",
              "    </tr>\n",
              "  </tbody>\n",
              "</table>\n",
              "</div>"
            ],
            "text/plain": [
              "            Z         A         B         C         D\n",
              "0  jH6rXRC6FF  0.010824  0.044598 -1.853515 -0.596254\n",
              "1  IrvMzpsaGj  1.196200  0.068381 -2.911274 -1.611408\n",
              "2  yO8tNsfvN8 -0.597172  1.355940  0.966367 -0.216020\n",
              "5  Zjx4FR8YE8  0.344950  1.680791  0.537409 -0.845184\n",
              "6  5HjmJtD3jT  0.465468 -1.745164  0.543424 -1.955046"
            ]
          },
          "metadata": {},
          "execution_count": 11
        }
      ]
    },
    {
      "cell_type": "markdown",
      "metadata": {
        "id": "83a4KR4V-oCE"
      },
      "source": [
        "Melihat Persentase Missing Value Pada Setiap Kolom"
      ]
    },
    {
      "cell_type": "code",
      "metadata": {
        "colab": {
          "base_uri": "https://localhost:8080/"
        },
        "id": "7xXe0wTZ-rUo",
        "outputId": "507ae27e-d47d-4b8e-c347-f4ccd309afe9"
      },
      "source": [
        "df = df_backup.copy(deep=True)\n",
        "df.isna().mean()"
      ],
      "execution_count": 12,
      "outputs": [
        {
          "output_type": "execute_result",
          "data": {
            "text/plain": [
              "Z    0.000000\n",
              "A    0.100000\n",
              "B    0.133333\n",
              "C    0.100000\n",
              "D    0.066667\n",
              "dtype: float64"
            ]
          },
          "metadata": {},
          "execution_count": 12
        }
      ]
    },
    {
      "cell_type": "markdown",
      "metadata": {
        "id": "ADGfSCwW-9FW"
      },
      "source": [
        "Melihat Jumlah Missing Value Pada Setiap Kolom"
      ]
    },
    {
      "cell_type": "code",
      "metadata": {
        "colab": {
          "base_uri": "https://localhost:8080/"
        },
        "id": "hDd_B41W-2Ju",
        "outputId": "c6d3e81d-4096-46d8-e419-0136e2372e15"
      },
      "source": [
        "df.isna().sum()"
      ],
      "execution_count": 14,
      "outputs": [
        {
          "output_type": "execute_result",
          "data": {
            "text/plain": [
              "Z    0\n",
              "A    3\n",
              "B    4\n",
              "C    3\n",
              "D    2\n",
              "dtype: int64"
            ]
          },
          "metadata": {},
          "execution_count": 14
        }
      ]
    },
    {
      "cell_type": "markdown",
      "metadata": {
        "id": "4Y0Ke62S_NfM"
      },
      "source": [
        "Menghapus Missing Value Pada Setiap Kolom Berdasarkan Threshold"
      ]
    },
    {
      "cell_type": "code",
      "metadata": {
        "colab": {
          "base_uri": "https://localhost:8080/",
          "height": 204
        },
        "id": "zHn8jBZP_YJ4",
        "outputId": "7aeb3cd0-033c-49d8-def2-9231abae242b"
      },
      "source": [
        "#Penentuan ambang batas missing value, jika belum memasuki rentang ambang batas maka kolom tidak akan dihapus\n",
        "#treshold yang ditetapakn 0.9 atau 90% dimana ambang batas untuk missing value adalah 10%\n",
        "treshold = len(df)*0.9\n",
        "df = df.dropna(thresh=treshold, axis='columns')\n",
        "df.head()"
      ],
      "execution_count": 16,
      "outputs": [
        {
          "output_type": "execute_result",
          "data": {
            "text/html": [
              "<div>\n",
              "<style scoped>\n",
              "    .dataframe tbody tr th:only-of-type {\n",
              "        vertical-align: middle;\n",
              "    }\n",
              "\n",
              "    .dataframe tbody tr th {\n",
              "        vertical-align: top;\n",
              "    }\n",
              "\n",
              "    .dataframe thead th {\n",
              "        text-align: right;\n",
              "    }\n",
              "</style>\n",
              "<table border=\"1\" class=\"dataframe\">\n",
              "  <thead>\n",
              "    <tr style=\"text-align: right;\">\n",
              "      <th></th>\n",
              "      <th>Z</th>\n",
              "      <th>A</th>\n",
              "      <th>C</th>\n",
              "      <th>D</th>\n",
              "    </tr>\n",
              "  </thead>\n",
              "  <tbody>\n",
              "    <tr>\n",
              "      <th>0</th>\n",
              "      <td>jH6rXRC6FF</td>\n",
              "      <td>0.010824</td>\n",
              "      <td>-1.853515</td>\n",
              "      <td>-0.596254</td>\n",
              "    </tr>\n",
              "    <tr>\n",
              "      <th>1</th>\n",
              "      <td>IrvMzpsaGj</td>\n",
              "      <td>1.196200</td>\n",
              "      <td>-2.911274</td>\n",
              "      <td>-1.611408</td>\n",
              "    </tr>\n",
              "    <tr>\n",
              "      <th>2</th>\n",
              "      <td>yO8tNsfvN8</td>\n",
              "      <td>-0.597172</td>\n",
              "      <td>0.966367</td>\n",
              "      <td>-0.216020</td>\n",
              "    </tr>\n",
              "    <tr>\n",
              "      <th>3</th>\n",
              "      <td>C80076x5WD</td>\n",
              "      <td>-1.273934</td>\n",
              "      <td>NaN</td>\n",
              "      <td>0.730350</td>\n",
              "    </tr>\n",
              "    <tr>\n",
              "      <th>4</th>\n",
              "      <td>Dct7wvQYgv</td>\n",
              "      <td>NaN</td>\n",
              "      <td>-1.108390</td>\n",
              "      <td>1.173725</td>\n",
              "    </tr>\n",
              "  </tbody>\n",
              "</table>\n",
              "</div>"
            ],
            "text/plain": [
              "            Z         A         C         D\n",
              "0  jH6rXRC6FF  0.010824 -1.853515 -0.596254\n",
              "1  IrvMzpsaGj  1.196200 -2.911274 -1.611408\n",
              "2  yO8tNsfvN8 -0.597172  0.966367 -0.216020\n",
              "3  C80076x5WD -1.273934       NaN  0.730350\n",
              "4  Dct7wvQYgv       NaN -1.108390  1.173725"
            ]
          },
          "metadata": {},
          "execution_count": 16
        }
      ]
    }
  ]
}